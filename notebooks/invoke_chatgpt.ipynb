{
 "cells": [
  {
   "cell_type": "code",
   "execution_count": 2,
   "metadata": {},
   "outputs": [],
   "source": [
    "import asyncio\n",
    "from typing import List, Dict\n",
    "from aiohttp_retry import ExponentialRetry, RetryClient\n",
    "from tqdm.notebook import tqdm"
   ]
  },
  {
   "cell_type": "code",
   "execution_count": 3,
   "metadata": {},
   "outputs": [],
   "source": [
    "# 自己的API_KEY\n",
    "API_KEY = ''\n",
    "# Set up the request parameters\n",
    "url = \"https://api.openai.com/v1/chat/completions\"\n",
    "# Set up the request headers\n",
    "headers = {\n",
    "    \"Content-Type\": \"application/json\",\n",
    "    # Replace API_KEY with your OpenAI API key\n",
    "    \"Authorization\": f\"Bearer {API_KEY}\"\n",
    "}\n",
    "# Set up the proxy environment variable\n",
    "# os.environ['HTTP_PROXY'] = 'http://172.19.160.1:7890'\n",
    "# os.environ['HTTPS_PROXY'] = 'http://172.19.160.1:7890'"
   ]
  },
  {
   "cell_type": "code",
   "execution_count": 7,
   "metadata": {},
   "outputs": [],
   "source": [
    "async def async_invoke_chatgpt(texts: List[str], pool_size=3, retry=3):\n",
    "    pbar = tqdm(total=len(texts))\n",
    "    # 定义一个异步锁\n",
    "    lock = asyncio.Lock()\n",
    "    # 定义一个信号量\n",
    "    semaphore = asyncio.Semaphore(pool_size)\n",
    "    # 定义一个字典来保存任务的结果\n",
    "    results_dict = {}\n",
    "\n",
    "    async def process_row(text, index):\n",
    "        # 检查任务是否已经成功完成\n",
    "        if index in results_dict:\n",
    "            return\n",
    "        async with semaphore:\n",
    "            # ... 其他代码，如设置请求数据、重试配置等\n",
    "            # Set up retry configuration\n",
    "            retry_options = ExponentialRetry(\n",
    "                attempts=retry,\n",
    "                statuses={500, 502, 503, 504},\n",
    "                exceptions={ConnectionResetError},\n",
    "            )\n",
    "            # Set up the request data\n",
    "            data = {\n",
    "                \"model\": \"gpt-3.5-turbo\",\n",
    "                \"messages\": [{\"role\": \"user\", \"content\": f\"{text}\"}],\n",
    "            }\n",
    "            async with RetryClient(\n",
    "                headers=headers, retry_options=retry_options, trust_env=True\n",
    "            ) as session:\n",
    "                async with session.post(url, json=data) as response:\n",
    "                    json_response = await response.json()\n",
    "                    print(json_response)\n",
    "                    try:\n",
    "                        content = json_response[\"choices\"][0][\"message\"][\"content\"]\n",
    "                    except:\n",
    "                        return\n",
    "                    # 保存成功的结果\n",
    "                    async with lock:\n",
    "                        results_dict[index] = content\n",
    "                        pbar.update(1)\n",
    "\n",
    "    async def execute_tasks_until_success(texts):\n",
    "        count = 0\n",
    "        while len(results_dict) < len(texts) and count < retry:\n",
    "            tasks = [\n",
    "                process_row(text, index)\n",
    "                for index, text in enumerate(texts)\n",
    "                if index not in results_dict\n",
    "            ]\n",
    "            await asyncio.gather(*tasks)\n",
    "            count += 1  # 增加重试计数\n",
    "\n",
    "        # 关闭进度条\n",
    "        pbar.close()\n",
    "        return results_dict  # 返回结果字典\n",
    "\n",
    "    return await execute_tasks_until_success(texts)"
   ]
  },
  {
   "cell_type": "code",
   "execution_count": 8,
   "metadata": {},
   "outputs": [],
   "source": [
    "texts: List[str] = [\"Example 1\", \"Example 2\", \"Example 3\"] "
   ]
  },
  {
   "cell_type": "code",
   "execution_count": 9,
   "metadata": {},
   "outputs": [
    {
     "data": {
      "application/vnd.jupyter.widget-view+json": {
       "model_id": "4ffd43e13b84481db6565d2a36e7661a",
       "version_major": 2,
       "version_minor": 0
      },
      "text/plain": [
       "  0%|          | 0/3 [00:00<?, ?it/s]"
      ]
     },
     "metadata": {},
     "output_type": "display_data"
    },
    {
     "name": "stdout",
     "output_type": "stream",
     "text": [
      "{'error': {'message': \"You didn't provide an API key. You need to provide your API key in an Authorization header using Bearer auth (i.e. Authorization: Bearer YOUR_KEY), or as the password field (with blank username) if you're accessing the API from your browser and are prompted for a username and password. You can obtain an API key from https://platform.openai.com/account/api-keys.\", 'type': 'invalid_request_error', 'param': None, 'code': None}}\n",
      "{'error': {'message': \"You didn't provide an API key. You need to provide your API key in an Authorization header using Bearer auth (i.e. Authorization: Bearer YOUR_KEY), or as the password field (with blank username) if you're accessing the API from your browser and are prompted for a username and password. You can obtain an API key from https://platform.openai.com/account/api-keys.\", 'type': 'invalid_request_error', 'param': None, 'code': None}}\n",
      "{'error': {'message': \"You didn't provide an API key. You need to provide your API key in an Authorization header using Bearer auth (i.e. Authorization: Bearer YOUR_KEY), or as the password field (with blank username) if you're accessing the API from your browser and are prompted for a username and password. You can obtain an API key from https://platform.openai.com/account/api-keys.\", 'type': 'invalid_request_error', 'param': None, 'code': None}}\n",
      "{'error': {'message': \"You didn't provide an API key. You need to provide your API key in an Authorization header using Bearer auth (i.e. Authorization: Bearer YOUR_KEY), or as the password field (with blank username) if you're accessing the API from your browser and are prompted for a username and password. You can obtain an API key from https://platform.openai.com/account/api-keys.\", 'type': 'invalid_request_error', 'param': None, 'code': None}}\n",
      "{'error': {'message': \"You didn't provide an API key. You need to provide your API key in an Authorization header using Bearer auth (i.e. Authorization: Bearer YOUR_KEY), or as the password field (with blank username) if you're accessing the API from your browser and are prompted for a username and password. You can obtain an API key from https://platform.openai.com/account/api-keys.\", 'type': 'invalid_request_error', 'param': None, 'code': None}}\n",
      "{'error': {'message': \"You didn't provide an API key. You need to provide your API key in an Authorization header using Bearer auth (i.e. Authorization: Bearer YOUR_KEY), or as the password field (with blank username) if you're accessing the API from your browser and are prompted for a username and password. You can obtain an API key from https://platform.openai.com/account/api-keys.\", 'type': 'invalid_request_error', 'param': None, 'code': None}}\n",
      "{'error': {'message': \"You didn't provide an API key. You need to provide your API key in an Authorization header using Bearer auth (i.e. Authorization: Bearer YOUR_KEY), or as the password field (with blank username) if you're accessing the API from your browser and are prompted for a username and password. You can obtain an API key from https://platform.openai.com/account/api-keys.\", 'type': 'invalid_request_error', 'param': None, 'code': None}}\n",
      "{'error': {'message': \"You didn't provide an API key. You need to provide your API key in an Authorization header using Bearer auth (i.e. Authorization: Bearer YOUR_KEY), or as the password field (with blank username) if you're accessing the API from your browser and are prompted for a username and password. You can obtain an API key from https://platform.openai.com/account/api-keys.\", 'type': 'invalid_request_error', 'param': None, 'code': None}}\n",
      "{'error': {'message': \"You didn't provide an API key. You need to provide your API key in an Authorization header using Bearer auth (i.e. Authorization: Bearer YOUR_KEY), or as the password field (with blank username) if you're accessing the API from your browser and are prompted for a username and password. You can obtain an API key from https://platform.openai.com/account/api-keys.\", 'type': 'invalid_request_error', 'param': None, 'code': None}}\n"
     ]
    }
   ],
   "source": [
    "predict: Dict[int, str] = await async_invoke_chatgpt(texts, 3)"
   ]
  },
  {
   "cell_type": "code",
   "execution_count": null,
   "metadata": {},
   "outputs": [],
   "source": []
  }
 ],
 "metadata": {
  "kernelspec": {
   "display_name": "Python 3",
   "language": "python",
   "name": "python3"
  },
  "language_info": {
   "codemirror_mode": {
    "name": "ipython",
    "version": 3
   },
   "file_extension": ".py",
   "mimetype": "text/x-python",
   "name": "python",
   "nbconvert_exporter": "python",
   "pygments_lexer": "ipython3",
   "version": "3.8.10"
  },
  "orig_nbformat": 4
 },
 "nbformat": 4,
 "nbformat_minor": 2
}
